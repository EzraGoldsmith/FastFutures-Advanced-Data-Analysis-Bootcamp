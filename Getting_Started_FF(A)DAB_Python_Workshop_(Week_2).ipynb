{
  "nbformat": 4,
  "nbformat_minor": 0,
  "metadata": {
    "colab": {
      "provenance": [],
      "toc_visible": true,
      "authorship_tag": "ABX9TyPJQwg3JX4+BWBRhmk7T9zI",
      "include_colab_link": true
    },
    "kernelspec": {
      "name": "python3",
      "display_name": "Python 3"
    },
    "language_info": {
      "name": "python"
    }
  },
  "cells": [
    {
      "cell_type": "markdown",
      "metadata": {
        "id": "view-in-github",
        "colab_type": "text"
      },
      "source": [
        "<a href=\"https://colab.research.google.com/github/EzraGoldsmith/FastFutures-Advanced-Data-Analysis-Bootcamp/blob/main/Getting_Started_FF(A)DAB_Python_Workshop_(Week_2).ipynb\" target=\"_parent\"><img src=\"https://colab.research.google.com/assets/colab-badge.svg\" alt=\"Open In Colab\"/></a>"
      ]
    },
    {
      "cell_type": "markdown",
      "source": [
        "# Getting started"
      ],
      "metadata": {
        "id": "_cGivyAgcYz4"
      }
    },
    {
      "cell_type": "code",
      "execution_count": null,
      "metadata": {
        "colab": {
          "base_uri": "https://localhost:8080/"
        },
        "id": "isXOEy9SasCl",
        "outputId": "4e772516-113a-4ad3-df33-e7e9e523293f"
      },
      "outputs": [
        {
          "output_type": "stream",
          "name": "stdout",
          "text": [
            "hello world!\n"
          ]
        }
      ],
      "source": [
        "print(\"Hello world!\")"
      ]
    },
    {
      "cell_type": "markdown",
      "source": [
        "I'm a text box - hello world!\n",
        "\n",
        "\\begin{array}\n",
        "∑_{n=1}^{\\infty}\\frac{1}{n} = -\\frac{1}{12}\n",
        "\\end{array}\n"
      ],
      "metadata": {
        "id": "Iu-A6hQjbVHe"
      }
    },
    {
      "cell_type": "markdown",
      "source": [
        "# Part 1: Introduction"
      ],
      "metadata": {
        "id": "bBkplmMIcRuP"
      }
    },
    {
      "cell_type": "markdown",
      "source": [
        "This data is stored in the Google Cloud. Thanks Google!"
      ],
      "metadata": {
        "id": "Ib0dCAlSc6C3"
      }
    },
    {
      "cell_type": "code",
      "source": [
        "5-2 # this is my first code"
      ],
      "metadata": {
        "colab": {
          "base_uri": "https://localhost:8080/"
        },
        "id": "37_CbhoQcze4",
        "outputId": "34402b24-93d3-48e6-f722-6964c6eb3a4e"
      },
      "execution_count": null,
      "outputs": [
        {
          "output_type": "execute_result",
          "data": {
            "text/plain": [
              "3"
            ]
          },
          "metadata": {},
          "execution_count": 5
        }
      ]
    },
    {
      "cell_type": "code",
      "source": [
        "x = 1\n",
        "i = 1\n",
        "while i < 10:\n",
        "  x = x+1\n",
        "  print(\"The current value of the variable x is %d\" % x)\n",
        "  i = i+1"
      ],
      "metadata": {
        "colab": {
          "base_uri": "https://localhost:8080/"
        },
        "id": "w6FTBRgCdLqa",
        "outputId": "e66886e3-c7ed-4ff7-bb09-d37eab6b93de"
      },
      "execution_count": null,
      "outputs": [
        {
          "output_type": "stream",
          "name": "stdout",
          "text": [
            "The current value of the variable x is 2\n",
            "The current value of the variable x is 3\n",
            "The current value of the variable x is 4\n",
            "The current value of the variable x is 5\n",
            "The current value of the variable x is 6\n",
            "The current value of the variable x is 7\n",
            "The current value of the variable x is 8\n",
            "The current value of the variable x is 9\n",
            "The current value of the variable x is 10\n"
          ]
        }
      ]
    },
    {
      "cell_type": "markdown",
      "source": [
        "Use 'ctrl' instead of 'cmd' for shortcuts!\n",
        "\n",
        "'ctrl + M + H' lets you replace shortcuts ('ctrl + M H', M & H together, opens a simpler pop-up window!)\n",
        "\n",
        "'ctrl + M + B' adds a code textbox\n",
        "\n",
        "The Mac alternative for 'alt' is 'option'"
      ],
      "metadata": {
        "id": "0QRdF3xlfcZk"
      }
    },
    {
      "cell_type": "markdown",
      "source": [
        "# Part 2: Variable types and formatting\n",
        "\n",
        "There are four main types of variable:"
      ],
      "metadata": {
        "id": "VanGLhjJl4rW"
      }
    },
    {
      "cell_type": "code",
      "source": [
        "bool\n",
        "float\n",
        "int\n",
        "str"
      ],
      "metadata": {
        "id": "v12c1i2ul4hp"
      },
      "execution_count": null,
      "outputs": []
    },
    {
      "cell_type": "markdown",
      "source": [
        "\"Tuples are immutable\" - thanks Mercy!"
      ],
      "metadata": {
        "id": "znimkMsZmWja"
      }
    },
    {
      "cell_type": "code",
      "source": [
        "print(type(bool),type(2),type(True),type(3.2))"
      ],
      "metadata": {
        "colab": {
          "base_uri": "https://localhost:8080/"
        },
        "id": "4tdVolUDmiBi",
        "outputId": "95825b9f-8fd3-48a2-da67-2814fa91e096"
      },
      "execution_count": null,
      "outputs": [
        {
          "output_type": "stream",
          "name": "stdout",
          "text": [
            "<class 'type'> <class 'int'> <class 'bool'> <class 'float'>\n"
          ]
        }
      ]
    },
    {
      "cell_type": "code",
      "source": [
        "type([1,2,3])"
      ],
      "metadata": {
        "colab": {
          "base_uri": "https://localhost:8080/"
        },
        "id": "EulC-ypenQpD",
        "outputId": "bb4fbf15-9a06-4abf-9fb6-0e3c4a5556bd"
      },
      "execution_count": null,
      "outputs": [
        {
          "output_type": "execute_result",
          "data": {
            "text/plain": [
              "list"
            ]
          },
          "metadata": {},
          "execution_count": 12
        }
      ]
    },
    {
      "cell_type": "code",
      "source": [
        "for element in [1,2.4,\"Hi!\"]:\n",
        "  print(\"%s is of type: %s\" % (element, type(element)))"
      ],
      "metadata": {
        "colab": {
          "base_uri": "https://localhost:8080/"
        },
        "id": "BNjfcBAhnU7s",
        "outputId": "5b4b5c2c-ec2b-4d24-8fd7-557ac5e5a8a5"
      },
      "execution_count": null,
      "outputs": [
        {
          "output_type": "stream",
          "name": "stdout",
          "text": [
            "1 is of type: <class 'int'>\n",
            "2.4 is of type: <class 'float'>\n",
            "Hi! is of type: <class 'str'>\n"
          ]
        }
      ]
    },
    {
      "cell_type": "code",
      "source": [
        "print(\"their apparent \\nintention was \\\"dishonest\\\"\")"
      ],
      "metadata": {
        "colab": {
          "base_uri": "https://localhost:8080/"
        },
        "id": "prN9RPccrp-x",
        "outputId": "49d49d99-96a0-43de-af2f-187abfb9142e"
      },
      "execution_count": null,
      "outputs": [
        {
          "output_type": "stream",
          "name": "stdout",
          "text": [
            "their apparent \n",
            "intention was \"dishonest\"\n"
          ]
        }
      ]
    },
    {
      "cell_type": "markdown",
      "source": [
        "# Part 3: Indexing\n",
        "\n",
        "Each string has an index starting at zero. We can use this to call upon specific characters"
      ],
      "metadata": {
        "id": "o1iPQWOnsHmJ"
      }
    },
    {
      "cell_type": "code",
      "source": [
        "my_string = \"Hello!\"\n",
        "print(my_string[0]+my_string[4], my_string[0]+my_string[4], my_string[0]+my_string[4])"
      ],
      "metadata": {
        "colab": {
          "base_uri": "https://localhost:8080/"
        },
        "id": "9HsRYaZntUb2",
        "outputId": "79d7ddfa-6318-4836-bb9d-c9f57c04bcd9"
      },
      "execution_count": null,
      "outputs": [
        {
          "output_type": "stream",
          "name": "stdout",
          "text": [
            "Ho Ho Ho\n"
          ]
        }
      ]
    },
    {
      "cell_type": "code",
      "source": [
        "print(my_string[:4])  # does not include the character with index = 4\n",
        "print(my_string[:5])"
      ],
      "metadata": {
        "colab": {
          "base_uri": "https://localhost:8080/"
        },
        "id": "TCNDX3L9tuQ-",
        "outputId": "260ca2ad-4705-446f-a84e-938026fa0601"
      },
      "execution_count": null,
      "outputs": [
        {
          "output_type": "stream",
          "name": "stdout",
          "text": [
            "Hell\n",
            "Hello\n"
          ]
        }
      ]
    },
    {
      "cell_type": "code",
      "source": [
        "x = \"Hello Mercy!\"\n",
        "var = \"!ycreM olleH\"\n",
        "print(var[::-1])"
      ],
      "metadata": {
        "colab": {
          "base_uri": "https://localhost:8080/"
        },
        "id": "1OOgTTl-wfNS",
        "outputId": "4b3acf6e-f962-4a8c-8317-de50c05ea99a"
      },
      "execution_count": null,
      "outputs": [
        {
          "output_type": "stream",
          "name": "stdout",
          "text": [
            "Hello Mercy!\n"
          ]
        }
      ]
    },
    {
      "cell_type": "markdown",
      "source": [
        "# Part 4: Further formatting\n"
      ],
      "metadata": {
        "id": "Qu4qqkcU1ijO"
      }
    },
    {
      "cell_type": "code",
      "source": [
        "str1 = \"I enjoy python\"\n",
        "str2 = \"a lot\"\n",
        "print(str1 + str2)\n",
        "print(str1+\" \"+str2)\n",
        "print(str1 + (\" \"+str2)*3)\n",
        "print(str1+\"\\t\"+str2)\n"
      ],
      "metadata": {
        "colab": {
          "base_uri": "https://localhost:8080/"
        },
        "id": "-jUSrxEr1n0u",
        "outputId": "5c3415df-ee20-4e79-ab02-cde4b38e5814"
      },
      "execution_count": null,
      "outputs": [
        {
          "output_type": "stream",
          "name": "stdout",
          "text": [
            "I enjoy pythona lot\n",
            "I enjoy python a lot\n",
            "I enjoy python a lot a lot a lot\n",
            "I enjoy python\ta lot\n"
          ]
        }
      ]
    },
    {
      "cell_type": "code",
      "source": [
        "UpperStr1 = str1.upper()\n",
        "print(UpperStr1)"
      ],
      "metadata": {
        "colab": {
          "base_uri": "https://localhost:8080/"
        },
        "id": "nzz1FjkN5ItX",
        "outputId": "69f49f83-3f76-473e-a148-c832e3ada959"
      },
      "execution_count": null,
      "outputs": [
        {
          "output_type": "stream",
          "name": "stdout",
          "text": [
            "I ENJOY PYTHON\n"
          ]
        }
      ]
    },
    {
      "cell_type": "code",
      "source": [
        "str1.count(\"n\")  # Case sensitive\n",
        "str1.count(\"N\")\n",
        "str1.lower().count(\"i\")"
      ],
      "metadata": {
        "colab": {
          "base_uri": "https://localhost:8080/"
        },
        "id": "qPtGrRy95WPT",
        "outputId": "1a0bdd49-e4c4-4005-8266-c2ecfe07dd67"
      },
      "execution_count": null,
      "outputs": [
        {
          "output_type": "execute_result",
          "data": {
            "text/plain": [
              "1"
            ]
          },
          "metadata": {},
          "execution_count": 47
        }
      ]
    },
    {
      "cell_type": "code",
      "source": [
        "print(str1)\n",
        "str1.find(\"i\")  # -1 means doesn't exist\n",
        "str1.find(\"I\")"
      ],
      "metadata": {
        "colab": {
          "base_uri": "https://localhost:8080/"
        },
        "id": "XiwWyJTv59mb",
        "outputId": "6fbe18f9-684f-44a5-e2fd-0dc935dac49f"
      },
      "execution_count": null,
      "outputs": [
        {
          "output_type": "stream",
          "name": "stdout",
          "text": [
            "I enjoy python\n"
          ]
        },
        {
          "output_type": "execute_result",
          "data": {
            "text/plain": [
              "0"
            ]
          },
          "metadata": {},
          "execution_count": 50
        }
      ]
    },
    {
      "cell_type": "code",
      "source": [
        "str3=\"Hello world?\"\n",
        "print(str3.replace(\"?\",\"!\"))"
      ],
      "metadata": {
        "colab": {
          "base_uri": "https://localhost:8080/"
        },
        "id": "S9IMVJVN6TUp",
        "outputId": "06304cb0-74c2-4557-e22e-edeb4cd076c9"
      },
      "execution_count": null,
      "outputs": [
        {
          "output_type": "stream",
          "name": "stdout",
          "text": [
            "Hello world!\n"
          ]
        }
      ]
    },
    {
      "cell_type": "code",
      "source": [
        "str4=\"Hello_World!\"\n",
        "print(str4.split(\"_\"))"
      ],
      "metadata": {
        "colab": {
          "base_uri": "https://localhost:8080/"
        },
        "id": "bQI4AqPT6scE",
        "outputId": "15427861-7feb-482f-daa8-1b537e3657b5"
      },
      "execution_count": null,
      "outputs": [
        {
          "output_type": "stream",
          "name": "stdout",
          "text": [
            "['Hello', 'World!']\n"
          ]
        }
      ]
    },
    {
      "cell_type": "markdown",
      "source": [
        "The ‘replace’ method doesn’t allow for more than 3 arguments (i.e. the value you want replacing, what you want it replacing with, and the number of times you replace it)"
      ],
      "metadata": {
        "id": "dOEsMJuI7k1v"
      }
    },
    {
      "cell_type": "code",
      "source": [
        "str5=\"Hell0 w0rld?\"\n",
        "str5.replace(\"0\",\"o\"), str5.replace(\"?\",\"!\")\n",
        "print(str5)\n",
        "str6 = str5.replace(\"0\",\"o\").replace(\"?\",\"!\")\n",
        "print(str6)"
      ],
      "metadata": {
        "colab": {
          "base_uri": "https://localhost:8080/"
        },
        "id": "jzALP9KV7seE",
        "outputId": "4dd7dc63-fc7d-469e-cd55-286e5c2db935"
      },
      "execution_count": null,
      "outputs": [
        {
          "output_type": "stream",
          "name": "stdout",
          "text": [
            "Hell0 w0rld?\n",
            "Hello world!\n"
          ]
        }
      ]
    },
    {
      "cell_type": "markdown",
      "source": [
        "Other types of formatting"
      ],
      "metadata": {
        "id": "dUIpoQ9j9Hl-"
      }
    },
    {
      "cell_type": "code",
      "source": [
        "str7=\"I will earn £{} by {}.\"\n",
        "amount=30000\n",
        "month=\"August\"\n",
        "print(str7.format(amount,month))"
      ],
      "metadata": {
        "colab": {
          "base_uri": "https://localhost:8080/"
        },
        "id": "d9WIndFD8zCd",
        "outputId": "2d8c602f-1ae4-40a4-d573-4622ae5a548b"
      },
      "execution_count": null,
      "outputs": [
        {
          "output_type": "stream",
          "name": "stdout",
          "text": [
            "I will earn £30000 by August.\n"
          ]
        }
      ]
    },
    {
      "cell_type": "code",
      "source": [
        "print(\"I will earn %d by %s.\" % (amount, month))"
      ],
      "metadata": {
        "colab": {
          "base_uri": "https://localhost:8080/"
        },
        "id": "bZamvAHz9D5e",
        "outputId": "74ceb666-73fd-45c0-9d5b-cdbcfa7b58d2"
      },
      "execution_count": null,
      "outputs": [
        {
          "output_type": "stream",
          "name": "stdout",
          "text": [
            "I will earn 30000 by August.\n"
          ]
        }
      ]
    },
    {
      "cell_type": "code",
      "source": [
        "print(f\"I will earn {amount} by {month}\")  # f-string"
      ],
      "metadata": {
        "colab": {
          "base_uri": "https://localhost:8080/"
        },
        "id": "JrfoMWxc9SaR",
        "outputId": "0e75d053-2a86-4359-96e3-5fc547f91bba"
      },
      "execution_count": null,
      "outputs": [
        {
          "output_type": "stream",
          "name": "stdout",
          "text": [
            "I will earn 30000 by August\n"
          ]
        }
      ]
    },
    {
      "cell_type": "markdown",
      "source": [
        "In case you ever get lost (or can't access StackExchange)..."
      ],
      "metadata": {
        "id": "BXAhQtD5-OII"
      }
    },
    {
      "cell_type": "code",
      "source": [
        "help(format)  # Requested by other webinar participant"
      ],
      "metadata": {
        "colab": {
          "base_uri": "https://localhost:8080/"
        },
        "id": "sOf2XRz59o1F",
        "outputId": "5fcc2303-3591-4cb6-a692-a8000af08d01"
      },
      "execution_count": null,
      "outputs": [
        {
          "output_type": "stream",
          "name": "stdout",
          "text": [
            "Help on built-in function format in module builtins:\n",
            "\n",
            "format(value, format_spec='', /)\n",
            "    Return value.__format__(format_spec)\n",
            "    \n",
            "    format_spec defaults to the empty string.\n",
            "    See the Format Specification Mini-Language section of help('FORMATTING') for\n",
            "    details.\n",
            "\n"
          ]
        }
      ]
    },
    {
      "cell_type": "code",
      "source": [
        "MyString=\"I bought {1}kg of {2} that cost me £{0}\"\n",
        "quant=5\n",
        "item=\"apples\"\n",
        "cost=10\n",
        "print(MyString.format(quant,item,cost))\n",
        "print(MyString.format(cost, quant, item))\n",
        "MyOtherString = \"I bought {2}kg of {0} that cost me £{1}\"\n",
        "print(MyOtherString.format(cost, quant, item))"
      ],
      "metadata": {
        "colab": {
          "base_uri": "https://localhost:8080/"
        },
        "id": "m_lc1yuG-Ako",
        "outputId": "d092d3d3-c6f1-4a7e-8cf0-1c10364771e2"
      },
      "execution_count": null,
      "outputs": [
        {
          "output_type": "stream",
          "name": "stdout",
          "text": [
            "I bought appleskg of 10 that cost me £5\n",
            "I bought 5kg of apples that cost me £10\n",
            "I bought appleskg of 10 that cost me £5\n"
          ]
        }
      ]
    },
    {
      "cell_type": "code",
      "source": [
        "YetAnotherString = \"{name} is a {age} year-old {job}.\"\n",
        "print(YetAnotherString.format(name=\"John\", age=23, job=\"data analyst\"))\n",
        "print(YetAnotherString.format(\"John\", 23, \"data analyst\"))  # Need to specify the key"
      ],
      "metadata": {
        "colab": {
          "base_uri": "https://localhost:8080/",
          "height": 266
        },
        "id": "cB0mWX1J_-OU",
        "outputId": "efb3d4eb-beed-4ed8-fe79-d5f65b72d0de"
      },
      "execution_count": null,
      "outputs": [
        {
          "output_type": "stream",
          "name": "stdout",
          "text": [
            "John is a 23 year-old data analyst.\n"
          ]
        },
        {
          "output_type": "error",
          "ename": "KeyError",
          "evalue": "ignored",
          "traceback": [
            "\u001b[0;31m---------------------------------------------------------------------------\u001b[0m",
            "\u001b[0;31mKeyError\u001b[0m                                  Traceback (most recent call last)",
            "\u001b[0;32m<ipython-input-75-d159c7c31b00>\u001b[0m in \u001b[0;36m<module>\u001b[0;34m\u001b[0m\n\u001b[1;32m      1\u001b[0m \u001b[0mYetAnotherString\u001b[0m \u001b[0;34m=\u001b[0m \u001b[0;34m\"{name} is a {age} year-old {job}.\"\u001b[0m\u001b[0;34m\u001b[0m\u001b[0;34m\u001b[0m\u001b[0m\n\u001b[1;32m      2\u001b[0m \u001b[0mprint\u001b[0m\u001b[0;34m(\u001b[0m\u001b[0mYetAnotherString\u001b[0m\u001b[0;34m.\u001b[0m\u001b[0mformat\u001b[0m\u001b[0;34m(\u001b[0m\u001b[0mname\u001b[0m\u001b[0;34m=\u001b[0m\u001b[0;34m\"John\"\u001b[0m\u001b[0;34m,\u001b[0m \u001b[0mage\u001b[0m\u001b[0;34m=\u001b[0m\u001b[0;36m23\u001b[0m\u001b[0;34m,\u001b[0m \u001b[0mjob\u001b[0m\u001b[0;34m=\u001b[0m\u001b[0;34m\"data analyst\"\u001b[0m\u001b[0;34m)\u001b[0m\u001b[0;34m)\u001b[0m\u001b[0;34m\u001b[0m\u001b[0;34m\u001b[0m\u001b[0m\n\u001b[0;32m----> 3\u001b[0;31m \u001b[0mprint\u001b[0m\u001b[0;34m(\u001b[0m\u001b[0mYetAnotherString\u001b[0m\u001b[0;34m.\u001b[0m\u001b[0mformat\u001b[0m\u001b[0;34m(\u001b[0m\u001b[0;34m\"John\"\u001b[0m\u001b[0;34m,\u001b[0m \u001b[0;36m23\u001b[0m\u001b[0;34m,\u001b[0m \u001b[0;34m\"data analyst\"\u001b[0m\u001b[0;34m)\u001b[0m\u001b[0;34m)\u001b[0m\u001b[0;34m\u001b[0m\u001b[0;34m\u001b[0m\u001b[0m\n\u001b[0m",
            "\u001b[0;31mKeyError\u001b[0m: 'name'"
          ]
        }
      ]
    },
    {
      "cell_type": "code",
      "source": [
        "# Example for the webinar\n",
        "info1 = [\"John\", 23, \"data analyst\"]\n",
        "info2 = [\"Sarah\", 31, \"pharmacist\"]\n",
        "info3 = [\"Matt\", 25, \"lawyer\"]\n",
        "allInfo = [info1, info2, info3];\n",
        "bioText = \"Bio: {} is a {} years-old {}.\"\n",
        "for info in allInfo:\n",
        "  print(bioText.format(info[0], info[1], info[2]))"
      ],
      "metadata": {
        "colab": {
          "base_uri": "https://localhost:8080/"
        },
        "id": "duFE4xo3CmYZ",
        "outputId": "b476a075-934b-49c5-a3f7-04caf389608a"
      },
      "execution_count": null,
      "outputs": [
        {
          "output_type": "stream",
          "name": "stdout",
          "text": [
            "Bio: John is a 23 years-old data analyst.\n",
            "Bio: Sarah is a 31 years-old pharmacist.\n",
            "Bio: Matt is a 25 years-old lawyer.\n"
          ]
        }
      ]
    },
    {
      "cell_type": "markdown",
      "source": [
        "# Part 5: More nonsense!"
      ],
      "metadata": {
        "id": "nQzLeSI7EAMX"
      }
    },
    {
      "cell_type": "code",
      "source": [
        "frac1 = 10/7\n",
        "round(frac1, 5)\n",
        "print(\"Value is {var:1.5f}\".format(var=10/7))"
      ],
      "metadata": {
        "colab": {
          "base_uri": "https://localhost:8080/"
        },
        "id": "5DhvDf7eD9sI",
        "outputId": "b73fd6db-9b02-4563-b3c3-39b6ee13b098"
      },
      "execution_count": null,
      "outputs": [
        {
          "output_type": "stream",
          "name": "stdout",
          "text": [
            "Value is 1.42857\n"
          ]
        }
      ]
    },
    {
      "cell_type": "code",
      "source": [
        "r = 2\n",
        "pi = 3.1415\n",
        "circum = 2 * pi * r\n",
        "print(circum)\n",
        "\n",
        "import math\n",
        "\n",
        "pi = math.pi\n",
        "print(pi)\n",
        "actualCircum = 2*pi*r\n",
        "print(actualCircum)"
      ],
      "metadata": {
        "colab": {
          "base_uri": "https://localhost:8080/"
        },
        "id": "R99TdhWnGrt0",
        "outputId": "0b77a3fe-acf2-4244-9e78-7ac0a736afc7"
      },
      "execution_count": null,
      "outputs": [
        {
          "output_type": "stream",
          "name": "stdout",
          "text": [
            "12.566\n",
            "3.141592653589793\n",
            "12.566370614359172\n"
          ]
        }
      ]
    },
    {
      "cell_type": "code",
      "source": [
        "if not(3>5):\n",
        "  print(\"3 is not greater than 5.\\n\")\n",
        "\n",
        "arg1 = 1\n",
        "arg2 = 4\n",
        "while arg1 <= 5:\n",
        "  if not(arg1>arg2):\n",
        "    print(\"{} is not greater than {}.\".format(arg1, arg2))\n",
        "  else:\n",
        "    print(\"{} is greater than {}\".format(arg1,arg2))\n",
        "  arg1 += 1\n",
        "\n",
        "print(\"\\n\")\n",
        "\n",
        "for i in range(5):\n",
        "  if i <= 3:\n",
        "    print(i)\n",
        "print(range(5))"
      ],
      "metadata": {
        "colab": {
          "base_uri": "https://localhost:8080/"
        },
        "id": "8RkL1JIqHVN2",
        "outputId": "6dc21379-d5a5-4775-bd14-2bb520088461"
      },
      "execution_count": null,
      "outputs": [
        {
          "output_type": "stream",
          "name": "stdout",
          "text": [
            "3 is not greater than 5.\n",
            "\n",
            "1 is not greater than 4.\n",
            "2 is not greater than 4.\n",
            "3 is not greater than 4.\n",
            "4 is not greater than 4.\n",
            "5 is greater than 4\n",
            "\n",
            "\n",
            "0\n",
            "1\n",
            "2\n",
            "3\n",
            "range(0, 5)\n"
          ]
        }
      ]
    },
    {
      "cell_type": "code",
      "source": [
        "length = 10\n",
        "width = 5\n",
        "area = length * width\n",
        "print(f\"The area of a rectangle with length {length} and width {width} is {area}\")"
      ],
      "metadata": {
        "colab": {
          "base_uri": "https://localhost:8080/"
        },
        "id": "ZumuYfv8J5hs",
        "outputId": "15896d82-8849-448c-e163-91d4ea103584"
      },
      "execution_count": null,
      "outputs": [
        {
          "output_type": "stream",
          "name": "stdout",
          "text": [
            "The area of a rectangle with length 10 and width 5 is 50\n"
          ]
        }
      ]
    },
    {
      "cell_type": "code",
      "source": [],
      "metadata": {
        "id": "dH-7fgBCJqwl"
      },
      "execution_count": null,
      "outputs": []
    }
  ]
}